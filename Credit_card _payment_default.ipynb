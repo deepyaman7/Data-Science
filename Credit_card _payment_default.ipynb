{
  "nbformat": 4,
  "nbformat_minor": 0,
  "metadata": {
    "colab": {
      "name": "Untitled0.ipynb",
      "provenance": [],
      "authorship_tag": "ABX9TyPE71c0C+68DqTaPzo+rTHv",
      "include_colab_link": true
    },
    "kernelspec": {
      "name": "python3",
      "display_name": "Python 3"
    },
    "language_info": {
      "name": "python"
    }
  },
  "cells": [
    {
      "cell_type": "markdown",
      "metadata": {
        "id": "view-in-github",
        "colab_type": "text"
      },
      "source": [
        "<a href=\"https://colab.research.google.com/github/deepyaman7/Data-Science/blob/main/Credit_card%20_payment_default.ipynb\" target=\"_parent\"><img src=\"https://colab.research.google.com/assets/colab-badge.svg\" alt=\"Open In Colab\"/></a>"
      ]
    },
    {
      "cell_type": "code",
      "metadata": {
        "colab": {
          "base_uri": "https://localhost:8080/"
        },
        "id": "-YGDqFIT-7-a",
        "outputId": "06aeb637-c8d1-46c5-bf4d-998aaaf56323"
      },
      "source": [
        "#importing data set\n",
        "import pandas as pd\n",
        "cred_data_file = '/content/train.csv'\n",
        "data = pd.read_csv(cred_data_file)\n",
        "\n",
        "print(\"Shape of data:\", data.shape)\n",
        "print(\"\\n Features:\", data.columns)\n"
      ],
      "execution_count": null,
      "outputs": [
        {
          "output_type": "stream",
          "name": "stdout",
          "text": [
            "Shape of data: (45528, 19)\n",
            "\n",
            " Features: Index(['customer_id', 'name', 'age', 'gender', 'owns_car', 'owns_house',\n",
            "       'no_of_children', 'net_yearly_income', 'no_of_days_employed',\n",
            "       'occupation_type', 'total_family_members', 'migrant_worker',\n",
            "       'yearly_debt_payments', 'credit_limit', 'credit_limit_used(%)',\n",
            "       'credit_score', 'prev_defaults', 'default_in_last_6months',\n",
            "       'credit_card_default'],\n",
            "      dtype='object')\n"
          ]
        }
      ]
    },
    {
      "cell_type": "code",
      "metadata": {
        "colab": {
          "base_uri": "https://localhost:8080/"
        },
        "id": "fG-IrRIFBPEX",
        "outputId": "0fcc9b1a-6ed7-4a4f-ef61-f684560300bf"
      },
      "source": [
        "data.isna().sum()"
      ],
      "execution_count": null,
      "outputs": [
        {
          "output_type": "execute_result",
          "data": {
            "text/plain": [
              "customer_id                  0\n",
              "name                         0\n",
              "age                          0\n",
              "gender                       0\n",
              "owns_car                   547\n",
              "owns_house                   0\n",
              "no_of_children             774\n",
              "net_yearly_income            0\n",
              "no_of_days_employed        463\n",
              "occupation_type              0\n",
              "total_family_members        83\n",
              "migrant_worker              87\n",
              "yearly_debt_payments        95\n",
              "credit_limit                 0\n",
              "credit_limit_used(%)         0\n",
              "credit_score                 8\n",
              "prev_defaults                0\n",
              "default_in_last_6months      0\n",
              "credit_card_default          0\n",
              "dtype: int64"
            ]
          },
          "metadata": {},
          "execution_count": 7
        }
      ]
    },
    {
      "cell_type": "code",
      "metadata": {
        "id": "UR5gj34VBzaN"
      },
      "source": [
        "data = data.dropna(axis=0)"
      ],
      "execution_count": null,
      "outputs": []
    },
    {
      "cell_type": "code",
      "metadata": {
        "id": "6I2vOQ_6B8eC"
      },
      "source": [
        "y = data.credit_card_default"
      ],
      "execution_count": null,
      "outputs": []
    },
    {
      "cell_type": "code",
      "metadata": {
        "id": "dzTVl919CBgT"
      },
      "source": [
        "data_features = ['credit_limit', 'credit_limit_used(%)',\n",
        "       'credit_score', 'prev_defaults', 'default_in_last_6months']\n",
        "X = data[data_features]"
      ],
      "execution_count": null,
      "outputs": []
    },
    {
      "cell_type": "code",
      "metadata": {
        "colab": {
          "base_uri": "https://localhost:8080/"
        },
        "id": "KkZIBzF7Cmhh",
        "outputId": "c55ba694-9aae-4dc9-86b7-09db02695326"
      },
      "source": [
        "from sklearn.tree import DecisionTreeRegressor\n",
        "data_model = DecisionTreeRegressor(random_state=1)\n",
        "data_model.fit(X, y)\n"
      ],
      "execution_count": null,
      "outputs": [
        {
          "output_type": "execute_result",
          "data": {
            "text/plain": [
              "DecisionTreeRegressor(random_state=1)"
            ]
          },
          "metadata": {},
          "execution_count": 13
        }
      ]
    },
    {
      "cell_type": "code",
      "metadata": {
        "colab": {
          "base_uri": "https://localhost:8080/"
        },
        "id": "x4XF2yjuC87s",
        "outputId": "dbc01890-a22a-4b70-fbc7-46d3826cd957"
      },
      "source": [
        "print(\"Making predictions for the following 5 customer:\")\n",
        "print(X.head())\n",
        "print(\"The predictions are\")\n",
        "print(data_model.predict(X.head()))"
      ],
      "execution_count": null,
      "outputs": [
        {
          "output_type": "stream",
          "name": "stdout",
          "text": [
            "Making predictions for the following 5 customer:\n",
            "   credit_limit  credit_limit_used(%)  ...  prev_defaults  default_in_last_6months\n",
            "0      18690.93                    73  ...              2                        1\n",
            "1      37745.19                    52  ...              0                        0\n",
            "2      41598.36                    43  ...              0                        0\n",
            "3      32627.76                    20  ...              0                        0\n",
            "4      52950.64                    75  ...              0                        0\n",
            "\n",
            "[5 rows x 5 columns]\n",
            "The predictions are\n",
            "[1. 0. 0. 0. 0.]\n"
          ]
        }
      ]
    },
    {
      "cell_type": "code",
      "metadata": {
        "colab": {
          "base_uri": "https://localhost:8080/"
        },
        "id": "vK92TGmuDWkB",
        "outputId": "ef9f9947-8316-4dab-94ff-1b31c2697c5d"
      },
      "source": [
        "from sklearn.metrics import mean_absolute_error\n",
        "\n",
        "predicted_data = data_model.predict(X)\n",
        "mean_absolute_error(y, predicted_data)"
      ],
      "execution_count": null,
      "outputs": [
        {
          "output_type": "execute_result",
          "data": {
            "text/plain": [
              "0.0"
            ]
          },
          "metadata": {},
          "execution_count": 16
        }
      ]
    },
    {
      "cell_type": "code",
      "metadata": {
        "colab": {
          "base_uri": "https://localhost:8080/"
        },
        "id": "hEqAKRcvEDaH",
        "outputId": "84a7f94d-85f9-4974-ed9b-48bb446f8988"
      },
      "source": [
        "from sklearn.model_selection import train_test_split\n",
        "train_X, val_X, train_y, val_y = train_test_split(X, y, random_state = 0)\n",
        "# Define model\n",
        "data_model = DecisionTreeRegressor()\n",
        "# Fit model\n",
        "data_model.fit(train_X, train_y)\n",
        "# get predicted prices on validation data\n",
        "val_predictions = data_model.predict(val_X)\n",
        "print(mean_absolute_error(val_y, val_predictions))"
      ],
      "execution_count": null,
      "outputs": [
        {
          "output_type": "stream",
          "name": "stdout",
          "text": [
            "0.027210884353741496\n"
          ]
        }
      ]
    },
    {
      "cell_type": "code",
      "metadata": {
        "id": "nv69rShlEvUW"
      },
      "source": [
        "def get_mae(max_leaf_nodes, train_X, val_X, train_y, val_y):\n",
        "    model = DecisionTreeRegressor(max_leaf_nodes=max_leaf_nodes, random_state=0)\n",
        "    model.fit(train_X, train_y)\n",
        "    preds_val = model.predict(val_X)\n",
        "    mae = mean_absolute_error(val_y, preds_val)\n",
        "    return(mae)"
      ],
      "execution_count": null,
      "outputs": []
    },
    {
      "cell_type": "code",
      "metadata": {
        "colab": {
          "base_uri": "https://localhost:8080/"
        },
        "id": "1qvv75iBE06R",
        "outputId": "771c5f14-53cc-48f1-f129-9cb61463d081"
      },
      "source": [
        "for max_leaf_nodes in [5, 50, 500, 5000]:\n",
        "    my_mae = get_mae(max_leaf_nodes, train_X, val_X, train_y, val_y)\n",
        "    print(\"Max leaf nodes: %d  \\t\\t Mean Absolute Error:  %d\" %(max_leaf_nodes, my_mae))"
      ],
      "execution_count": null,
      "outputs": [
        {
          "output_type": "stream",
          "name": "stdout",
          "text": [
            "Max leaf nodes: 5  \t\t Mean Absolute Error:  0\n",
            "Max leaf nodes: 50  \t\t Mean Absolute Error:  0\n",
            "Max leaf nodes: 500  \t\t Mean Absolute Error:  0\n",
            "Max leaf nodes: 5000  \t\t Mean Absolute Error:  0\n"
          ]
        }
      ]
    },
    {
      "cell_type": "code",
      "metadata": {
        "colab": {
          "base_uri": "https://localhost:8080/"
        },
        "id": "9S4DgnZDFBq2",
        "outputId": "f82ee85f-eb9e-4706-e136-3236ece9ac9c"
      },
      "source": [
        "from sklearn.ensemble import RandomForestRegressor\n",
        "from sklearn.metrics import mean_absolute_error\n",
        "\n",
        "forest_model = RandomForestRegressor(random_state=1)\n",
        "forest_model.fit(train_X, train_y)\n",
        "melb_preds = forest_model.predict(val_X)\n",
        "print(mean_absolute_error(val_y, melb_preds))"
      ],
      "execution_count": null,
      "outputs": [
        {
          "output_type": "stream",
          "name": "stdout",
          "text": [
            "0.028473984188269904\n"
          ]
        }
      ]
    }
  ]
}