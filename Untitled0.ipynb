{
  "nbformat": 4,
  "nbformat_minor": 0,
  "metadata": {
    "colab": {
      "name": "Untitled0.ipynb",
      "provenance": [],
      "authorship_tag": "ABX9TyPj68HmO5Ed1bX7dur+kfh2",
      "include_colab_link": true
    },
    "kernelspec": {
      "name": "python3",
      "display_name": "Python 3"
    },
    "language_info": {
      "name": "python"
    }
  },
  "cells": [
    {
      "cell_type": "markdown",
      "metadata": {
        "id": "view-in-github",
        "colab_type": "text"
      },
      "source": [
        "<a href=\"https://colab.research.google.com/github/deepyaman7/Data-Science/blob/main/Untitled0.ipynb\" target=\"_parent\"><img src=\"https://colab.research.google.com/assets/colab-badge.svg\" alt=\"Open In Colab\"/></a>"
      ]
    },
    {
      "cell_type": "code",
      "metadata": {
        "colab": {
          "base_uri": "https://localhost:8080/"
        },
        "id": "-UZimb3SevzV",
        "outputId": "8f1e9412-b1be-423a-87ce-00a5e54a929a"
      },
      "source": [
        "import pandas as pd\n",
        "path = '/content/sample_data/california_housing_train.csv'\n",
        "data = pd.read_csv(path)\n",
        "data.columns\n",
        "from sklearn.tree import DecisionTreeRegressor\n",
        "y = data.median_house_value\n",
        "features = ['housing_median_age', 'total_rooms', 'total_bedrooms']\n",
        "X = data[features]\n",
        "data_model = DecisionTreeRegressor()\n",
        "data_model.fit(X,y)\n",
        "data_model.predict(X)\n"
      ],
      "execution_count": 2,
      "outputs": [
        {
          "output_type": "execute_result",
          "data": {
            "text/plain": [
              "array([ 66900.,  80100.,  85700., ..., 103600.,  85800.,  94600.])"
            ]
          },
          "metadata": {},
          "execution_count": 2
        }
      ]
    },
    {
      "cell_type": "code",
      "metadata": {
        "colab": {
          "base_uri": "https://localhost:8080/"
        },
        "id": "iUK5Xd-pgU6s",
        "outputId": "d1e12d32-b0c7-4f6d-cf23-4aa5c97b47ef"
      },
      "source": [
        "from sklearn.metrics import mean_absolute_error\n",
        "\n",
        "predicted_data = data_model.predict(X)\n",
        "mean_absolute_error(y, predicted_data)"
      ],
      "execution_count": 3,
      "outputs": [
        {
          "output_type": "execute_result",
          "data": {
            "text/plain": [
              "11.1"
            ]
          },
          "metadata": {},
          "execution_count": 3
        }
      ]
    },
    {
      "cell_type": "code",
      "metadata": {
        "id": "9VNTMjogg3db"
      },
      "source": [
        ""
      ],
      "execution_count": null,
      "outputs": []
    }
  ]
}